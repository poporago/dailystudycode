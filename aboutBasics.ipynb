{
 "cells": [
  {
   "cell_type": "code",
   "execution_count": 1,
   "id": "f5b2f694-d326-4d06-bade-e15fbfae007f",
   "metadata": {},
   "outputs": [],
   "source": [
    "PI = 3.141592\n",
    "\n",
    "class Math: \n",
    "    def solv(self, r): \n",
    "        return PI * (r ** 2) \n",
    "\n",
    "def add(a, b): \n",
    "    return a+b "
   ]
  },
  {
   "cell_type": "code",
   "execution_count": 3,
   "id": "7a37cda7-af34-4d66-bafa-013787e83fb0",
   "metadata": {},
   "outputs": [],
   "source": [
    "A = Math.solv(3,4)"
   ]
  },
  {
   "cell_type": "code",
   "execution_count": 6,
   "id": "d555f1dd-f247-4688-b3ed-f78b72d81350",
   "metadata": {},
   "outputs": [],
   "source": [
    "B = Math()"
   ]
  },
  {
   "cell_type": "code",
   "execution_count": 7,
   "id": "32c039f8-33aa-4be4-a2ea-809983480dae",
   "metadata": {},
   "outputs": [
    {
     "data": {
      "text/plain": [
       "__main__.Math"
      ]
     },
     "execution_count": 7,
     "metadata": {},
     "output_type": "execute_result"
    }
   ],
   "source": [
    "type(B)"
   ]
  },
  {
   "cell_type": "code",
   "execution_count": null,
   "id": "979c3dd9-4386-48b9-81a7-88f163aae94e",
   "metadata": {},
   "outputs": [],
   "source": []
  },
  {
   "cell_type": "code",
   "execution_count": 18,
   "id": "12286450-375a-4278-946a-ab9dcaf12691",
   "metadata": {},
   "outputs": [],
   "source": [
    "class factory:\n",
    "    def set_info(self,material,line):\n",
    "        self.material = material\n",
    "        self.line = line\n",
    "        \n",
    "    def print_into(self):\n",
    "        print(\"material:\",self.material)\n",
    "        print(\"line:\",self.line)"
   ]
  },
  {
   "cell_type": "code",
   "execution_count": 10,
   "id": "85d1901e-5e39-4bc9-9606-791d7f56d505",
   "metadata": {},
   "outputs": [],
   "source": [
    "C = factory()"
   ]
  },
  {
   "cell_type": "code",
   "execution_count": 11,
   "id": "6d882923-e016-4068-a689-98e4d210099e",
   "metadata": {},
   "outputs": [
    {
     "data": {
      "text/plain": [
       "__main__.factory"
      ]
     },
     "execution_count": 11,
     "metadata": {},
     "output_type": "execute_result"
    }
   ],
   "source": [
    "type(C)"
   ]
  },
  {
   "cell_type": "code",
   "execution_count": 15,
   "id": "5372a4ad-bdb5-4768-9e7d-f70a370d7b08",
   "metadata": {},
   "outputs": [],
   "source": [
    "C.set_info('얼씨구','절씨구')"
   ]
  },
  {
   "cell_type": "code",
   "execution_count": 17,
   "id": "7ba7cde6-069d-4a5f-839e-c09da7bb9646",
   "metadata": {},
   "outputs": [
    {
     "name": "stdout",
     "output_type": "stream",
     "text": [
      "material: 얼씨구\n",
      "lie: 절씨구\n"
     ]
    }
   ],
   "source": [
    "C.print_into()"
   ]
  },
  {
   "cell_type": "code",
   "execution_count": null,
   "id": "141fb05c-9ae8-40ee-935a-5a4f44772019",
   "metadata": {},
   "outputs": [],
   "source": []
  },
  {
   "cell_type": "code",
   "execution_count": 19,
   "id": "642cf793-ae6f-47aa-adc5-275939d24367",
   "metadata": {},
   "outputs": [],
   "source": [
    "class factory2:\n",
    "    def set_info(self,material,line):\n",
    "        self.material = material\n",
    "        self.line = line\n",
    "        return\n",
    "        \n",
    "    def print_into(self):\n",
    "        print(\"material:\",self.material)\n",
    "        print(\"line:\",self.line)"
   ]
  },
  {
   "cell_type": "code",
   "execution_count": 14,
   "id": "44865d77-b9de-4e06-8153-e294f91c5991",
   "metadata": {},
   "outputs": [],
   "source": [
    "D = factory2()"
   ]
  },
  {
   "cell_type": "code",
   "execution_count": 21,
   "id": "02607608-cade-4203-9bce-08c2199994c5",
   "metadata": {},
   "outputs": [],
   "source": [
    "D.set_info('어쩔래미','저쩔래미')"
   ]
  },
  {
   "cell_type": "code",
   "execution_count": 38,
   "id": "ea7c7dce-b280-42d9-b78c-f26e69a3dc6b",
   "metadata": {},
   "outputs": [],
   "source": [
    "class machine:\n",
    "    class_variable = \"CV\"\n",
    "    \n",
    "    def __init__ (self, variable):\n",
    "        self.instance_variable = variable"
   ]
  },
  {
   "cell_type": "code",
   "execution_count": 39,
   "id": "1d483644-3186-46f2-9041-1fc975e8a684",
   "metadata": {},
   "outputs": [
    {
     "name": "stdout",
     "output_type": "stream",
     "text": [
      "CV\n",
      "CV\n"
     ]
    }
   ],
   "source": [
    "amachine = machine('discrete')\n",
    "bmachine = machine('continuous')\n",
    "print(amachine.class_variable)\n",
    "print(bmachine.class_variable)"
   ]
  },
  {
   "cell_type": "code",
   "execution_count": 40,
   "id": "226d495b-7336-4472-9f76-c87aaeebaf89",
   "metadata": {},
   "outputs": [],
   "source": [
    "amachine.class_variable=\"is it change?\""
   ]
  },
  {
   "cell_type": "code",
   "execution_count": 41,
   "id": "409be637-27e7-4f6e-b233-005a16516211",
   "metadata": {},
   "outputs": [
    {
     "name": "stdout",
     "output_type": "stream",
     "text": [
      "is it change?\n"
     ]
    }
   ],
   "source": [
    "print(amachine.class_variable)"
   ]
  },
  {
   "cell_type": "code",
   "execution_count": 43,
   "id": "b5ddb6ba-8aa7-4e3e-8a25-fd2d75d351b3",
   "metadata": {},
   "outputs": [
    {
     "name": "stdout",
     "output_type": "stream",
     "text": [
      "discrete\n"
     ]
    }
   ],
   "source": [
    "print(amachine.instance_variable)"
   ]
  },
  {
   "cell_type": "code",
   "execution_count": 44,
   "id": "c7416ffc-cab0-4242-9195-3b2d5ac6aa9a",
   "metadata": {},
   "outputs": [],
   "source": [
    "PI = 3.141592\n",
    "\n",
    "class Math: \n",
    "    def solv(self, r): \n",
    "        return PI * (r ** 2) \n",
    "\n",
    "def add(a, b): \n",
    "    return a+b "
   ]
  },
  {
   "cell_type": "code",
   "execution_count": 48,
   "id": "dc2d80e2-8e66-41e5-acb3-0b0cfdfd87ff",
   "metadata": {},
   "outputs": [
    {
     "name": "stdout",
     "output_type": "stream",
     "text": [
      "50.265472\n"
     ]
    }
   ],
   "source": [
    "A=Math.solv(3,4)\n",
    "print(A)"
   ]
  },
  {
   "cell_type": "code",
   "execution_count": 45,
   "id": "ecdcab8b-67c4-431b-b1ea-7689cae6f474",
   "metadata": {},
   "outputs": [],
   "source": [
    "class Math2: \n",
    "    def solv(r): \n",
    "        return PI * (r ** 2) \n",
    "\n",
    "def add(a, b): \n",
    "    return a+b "
   ]
  },
  {
   "cell_type": "code",
   "execution_count": 50,
   "id": "f7b84c4c-cff9-4a2b-b9ba-d04a117067ea",
   "metadata": {},
   "outputs": [
    {
     "name": "stdout",
     "output_type": "stream",
     "text": [
      "50.265472\n"
     ]
    }
   ],
   "source": [
    "B=Math2.solv(4)\n",
    "print(B)"
   ]
  },
  {
   "cell_type": "code",
   "execution_count": null,
   "id": "0c17781a-cc1a-47c5-ac0a-5d55dfe3c222",
   "metadata": {},
   "outputs": [],
   "source": []
  },
  {
   "cell_type": "code",
   "execution_count": 54,
   "id": "dc116d54-9f72-440d-a3d5-83e37b2d86ab",
   "metadata": {},
   "outputs": [
    {
     "name": "stdin",
     "output_type": "stream",
     "text": [
      "나이를 입력하세요:  1asdsad\n"
     ]
    },
    {
     "name": "stdout",
     "output_type": "stream",
     "text": [
      "입력이 정확하지 않습니다.\n"
     ]
    }
   ],
   "source": [
    "try:\n",
    "    age=int(input('나이를 입력하세요: '))\n",
    "except:\n",
    "    print('입력이 정확하지 않습니다.')\n",
    "else:\n",
    "    if age <= 18:\n",
    "        print('미성년자는 출입금지입니다.')\n",
    "    else:\n",
    "        print('환영합니다.')"
   ]
  },
  {
   "cell_type": "code",
   "execution_count": 56,
   "id": "c75902cf-6a86-4ad8-9a22-f261345d60e9",
   "metadata": {},
   "outputs": [
    {
     "name": "stdin",
     "output_type": "stream",
     "text": [
      "나이를 입력하세요:  asdasdsad\n"
     ]
    },
    {
     "name": "stdout",
     "output_type": "stream",
     "text": [
      "입력이 정확하지 않습니다.\n"
     ]
    }
   ],
   "source": [
    "try:\n",
    "    age=int(input('나이를 입력하세요: '))\n",
    "except ValueError:\n",
    "#에러타입 명시 Runtime series:\n",
    "#ZeroDivisionError,IndexError,ValueError,NameError,TypeError\n",
    "    print('입력이 정확하지 않습니다.')\n",
    "else:\n",
    "    if age <= 18:\n",
    "        print('미성년자는 출입금지입니다.')\n",
    "    else:\n",
    "        print('환영합니다.')"
   ]
  },
  {
   "cell_type": "code",
   "execution_count": 59,
   "id": "c3d534b9-3228-4f10-9fe3-031932d8bc4d",
   "metadata": {},
   "outputs": [],
   "source": [
    "def div(a: float, b: float, eps=0.0, debug=False) -> float:\n",
    "\n",
    "    if debug:\n",
    "        print(\"a, b : \", a, b)\n",
    "    if eps: # True\n",
    "        N = a / (b + eps)\n",
    "        if debug:\n",
    "            print(\"N : \", N)\n",
    "        return N\n",
    "    else:  # False\n",
    "        try:\n",
    "            N = a / b  # epslion를 안쓰는 경우.\n",
    "            return N\n",
    "        except ZeroDivisionError:\n",
    "            print(\"b is 0.\")"
   ]
  },
  {
   "cell_type": "code",
   "execution_count": 61,
   "id": "74f60c4f-c274-47e2-aeb8-9a93ef7e4f2a",
   "metadata": {},
   "outputs": [
    {
     "name": "stdout",
     "output_type": "stream",
     "text": [
      "a, b :  3 0\n",
      "b is 0.\n"
     ]
    }
   ],
   "source": [
    "div(3, 0, debug=True)"
   ]
  },
  {
   "cell_type": "code",
   "execution_count": 62,
   "id": "d3da7e20-8478-47ca-80f0-db1f474f42c3",
   "metadata": {},
   "outputs": [
    {
     "name": "stdout",
     "output_type": "stream",
     "text": [
      "a, b :  3 0\n",
      "N :  3000000.0\n"
     ]
    },
    {
     "data": {
      "text/plain": [
       "3000000.0"
      ]
     },
     "execution_count": 62,
     "metadata": {},
     "output_type": "execute_result"
    }
   ],
   "source": [
    "div(3, 0, 1e-6, True)     # TRUE는 eps=TRUE를 의미한다."
   ]
  },
  {
   "cell_type": "code",
   "execution_count": 63,
   "id": "22eaa4ef-9fef-47d4-87d7-b8a80e52d550",
   "metadata": {},
   "outputs": [
    {
     "name": "stdout",
     "output_type": "stream",
     "text": [
      "a, b :  10 1\n",
      "N :  9.990009990009991\n"
     ]
    },
    {
     "data": {
      "text/plain": [
       "9.990009990009991"
      ]
     },
     "execution_count": 63,
     "metadata": {},
     "output_type": "execute_result"
    }
   ],
   "source": [
    "div(debug=True, eps=1e-3, b=1, a=10)#지정만 해준다면 순서는 바뀌어도 상관없다."
   ]
  },
  {
   "cell_type": "markdown",
   "id": "400364ca-df0d-4cd4-9db2-1d11876fb06f",
   "metadata": {},
   "source": [
    "### about 내장함수"
   ]
  },
  {
   "cell_type": "code",
   "execution_count": 64,
   "id": "cdc68f06-7d08-47c7-9c75-e03af954ef61",
   "metadata": {},
   "outputs": [
    {
     "data": {
      "text/plain": [
       "['__class__',\n",
       " '__delattr__',\n",
       " '__dict__',\n",
       " '__dir__',\n",
       " '__doc__',\n",
       " '__eq__',\n",
       " '__format__',\n",
       " '__ge__',\n",
       " '__getattribute__',\n",
       " '__gt__',\n",
       " '__hash__',\n",
       " '__init__',\n",
       " '__init_subclass__',\n",
       " '__le__',\n",
       " '__lt__',\n",
       " '__module__',\n",
       " '__ne__',\n",
       " '__new__',\n",
       " '__reduce__',\n",
       " '__reduce_ex__',\n",
       " '__repr__',\n",
       " '__setattr__',\n",
       " '__sizeof__',\n",
       " '__str__',\n",
       " '__subclasshook__',\n",
       " '__weakref__',\n",
       " 'class_variable',\n",
       " 'instance_variable']"
      ]
     },
     "execution_count": 64,
     "metadata": {},
     "output_type": "execute_result"
    }
   ],
   "source": [
    "dir(amachine)"
   ]
  },
  {
   "cell_type": "code",
   "execution_count": 69,
   "id": "b0254645-f6fb-434c-8592-44db7c46f024",
   "metadata": {},
   "outputs": [
    {
     "data": {
      "text/plain": [
       "(2, 1)"
      ]
     },
     "execution_count": 69,
     "metadata": {},
     "output_type": "execute_result"
    }
   ],
   "source": [
    "divmod(7,3)  #divmod(7,3)[0] , divmod(7,3)[1]"
   ]
  },
  {
   "cell_type": "code",
   "execution_count": 83,
   "id": "58a0bdd5-0dac-4e8a-adef-942cb90c32fc",
   "metadata": {},
   "outputs": [
    {
     "data": {
      "text/plain": [
       "<enumerate at 0x108e80440>"
      ]
     },
     "execution_count": 83,
     "metadata": {},
     "output_type": "execute_result"
    }
   ],
   "source": [
    "enumerate(['body','foo','bar'])"
   ]
  },
  {
   "cell_type": "code",
   "execution_count": 84,
   "id": "0b4cd123-32ab-4db2-9cc8-0c06db286943",
   "metadata": {},
   "outputs": [
    {
     "data": {
      "text/plain": [
       "[(0, 'body'), (1, 'foo'), (2, 'bar')]"
      ]
     },
     "execution_count": 84,
     "metadata": {},
     "output_type": "execute_result"
    }
   ],
   "source": [
    "list(enumerate(['body','foo','bar']))"
   ]
  },
  {
   "cell_type": "code",
   "execution_count": 81,
   "id": "a3089be4-8de7-41bf-9a7e-ec176848492d",
   "metadata": {},
   "outputs": [],
   "source": [
    "A = enumerate(['body','foo','bar'])"
   ]
  },
  {
   "cell_type": "code",
   "execution_count": 82,
   "id": "551ad360-b3d5-4d05-95c5-e897dacf6a2e",
   "metadata": {},
   "outputs": [
    {
     "name": "stdout",
     "output_type": "stream",
     "text": [
      "0 body\n",
      "1 foo\n",
      "2 bar\n"
     ]
    }
   ],
   "source": [
    "for index,name in A:\n",
    "    print(index,name)"
   ]
  },
  {
   "cell_type": "code",
   "execution_count": 97,
   "id": "e54d5982-908d-4f68-80f5-291e92802810",
   "metadata": {},
   "outputs": [],
   "source": [
    "# A = enumerate(['body','foo','bar'])  "
   ]
  },
  {
   "cell_type": "code",
   "execution_count": 98,
   "id": "be1cb30d-46f4-4243-8492-178cff2a53e7",
   "metadata": {},
   "outputs": [
    {
     "data": {
      "text/plain": [
       "[]"
      ]
     },
     "execution_count": 98,
     "metadata": {},
     "output_type": "execute_result"
    }
   ],
   "source": [
    "list(A) ## interator의 lazy개념, 필요할때마다 생성해줘야한다."
   ]
  },
  {
   "cell_type": "code",
   "execution_count": 99,
   "id": "fcfbd162-4349-46b6-9f2f-14f163941979",
   "metadata": {},
   "outputs": [
    {
     "name": "stdout",
     "output_type": "stream",
     "text": [
      "1+2\n"
     ]
    }
   ],
   "source": [
    "print('1+2')"
   ]
  },
  {
   "cell_type": "code",
   "execution_count": 100,
   "id": "49d9b671-9fd7-47c6-872b-ddc849a71157",
   "metadata": {},
   "outputs": [
    {
     "data": {
      "text/plain": [
       "3"
      ]
     },
     "execution_count": 100,
     "metadata": {},
     "output_type": "execute_result"
    }
   ],
   "source": [
    "eval('1+2')"
   ]
  },
  {
   "cell_type": "code",
   "execution_count": 103,
   "id": "5ae94386-ab0c-4bb3-a432-d3f91fe33f60",
   "metadata": {},
   "outputs": [
    {
     "data": {
      "text/plain": [
       "'hia'"
      ]
     },
     "execution_count": 103,
     "metadata": {},
     "output_type": "execute_result"
    }
   ],
   "source": [
    "'hi'+'a'"
   ]
  },
  {
   "cell_type": "code",
   "execution_count": 112,
   "id": "28cea6cf-0015-497d-8232-9aad830f1102",
   "metadata": {},
   "outputs": [],
   "source": [
    "#filter (func,iterator)\n",
    "def positive(l):\n",
    "    result= []\n",
    "    for i in l:\n",
    "        if i>0:\n",
    "            result.append(i)\n",
    "    return result"
   ]
  },
  {
   "cell_type": "code",
   "execution_count": 113,
   "id": "1f3ae26c-d0b7-4b4c-a85a-e9f134080373",
   "metadata": {},
   "outputs": [
    {
     "data": {
      "text/plain": [
       "[1, 3, 5]"
      ]
     },
     "execution_count": 113,
     "metadata": {},
     "output_type": "execute_result"
    }
   ],
   "source": [
    "positive([-1,1,3,5,-15])"
   ]
  },
  {
   "cell_type": "code",
   "execution_count": 114,
   "id": "ff6e0ad5-cf0a-450d-8da3-6ed21c160e7d",
   "metadata": {},
   "outputs": [],
   "source": [
    "def positive_sort(x):\n",
    "    return x>0"
   ]
  },
  {
   "cell_type": "code",
   "execution_count": 118,
   "id": "77e58827-b95b-4788-88e7-33fdd6c36c65",
   "metadata": {},
   "outputs": [
    {
     "name": "stdout",
     "output_type": "stream",
     "text": [
      "[1, 2, 6]\n"
     ]
    }
   ],
   "source": [
    "print(list(filter(positive_sort, [1, -3, 2, 0, -5, 6])))"
   ]
  },
  {
   "cell_type": "code",
   "execution_count": 120,
   "id": "b7767bf1-4f00-421b-a3f1-454527101f5e",
   "metadata": {},
   "outputs": [
    {
     "data": {
      "text/plain": [
       "[1, 2, 6]"
      ]
     },
     "execution_count": 120,
     "metadata": {},
     "output_type": "execute_result"
    }
   ],
   "source": [
    "list(filter(lambda x : x>0 , [1,-3,2,0,-5,6]))"
   ]
  },
  {
   "cell_type": "code",
   "execution_count": 121,
   "id": "e775db22-c234-4caa-a8b0-9a2cbc2a548a",
   "metadata": {},
   "outputs": [
    {
     "data": {
      "text/plain": [
       "['p', 'y', 't', 'h', 'o', 'n']"
      ]
     },
     "execution_count": 121,
     "metadata": {},
     "output_type": "execute_result"
    }
   ],
   "source": [
    "list(\"python\")"
   ]
  },
  {
   "cell_type": "code",
   "execution_count": 123,
   "id": "6848be72-897a-4848-9e99-7697685bad09",
   "metadata": {},
   "outputs": [
    {
     "data": {
      "text/plain": [
       "[2, 4, 6, 8]"
      ]
     },
     "execution_count": 123,
     "metadata": {},
     "output_type": "execute_result"
    }
   ],
   "source": [
    "list(map(lambda x : x*2 ,[1,2,3,4]))"
   ]
  },
  {
   "cell_type": "code",
   "execution_count": 125,
   "id": "9d951fb4-f9a2-49c4-a0ad-d48045f962b0",
   "metadata": {},
   "outputs": [
    {
     "data": {
      "text/plain": [
       "['e', 'o', 'r', 'z']"
      ]
     },
     "execution_count": 125,
     "metadata": {},
     "output_type": "execute_result"
    }
   ],
   "source": [
    "sorted(\"zero\")\n",
    "a= sorted(\"zero\")"
   ]
  },
  {
   "cell_type": "code",
   "execution_count": null,
   "id": "5a042e13-45bc-44ea-8d46-d1fc79be8b07",
   "metadata": {},
   "outputs": [],
   "source": [
    "#표준 라이브러리"
   ]
  },
  {
   "cell_type": "code",
   "execution_count": 126,
   "id": "9af56f50-39d0-475f-a74b-3ff99b7c1732",
   "metadata": {},
   "outputs": [],
   "source": [
    "import datetime"
   ]
  },
  {
   "cell_type": "code",
   "execution_count": 127,
   "id": "e63094d4-dee4-4afc-a826-130e8dcce324",
   "metadata": {},
   "outputs": [],
   "source": [
    "day1 = datetime.date(2019,12,14)"
   ]
  },
  {
   "cell_type": "code",
   "execution_count": 128,
   "id": "18106bd9-976f-4456-b275-2b89296da1e8",
   "metadata": {},
   "outputs": [],
   "source": [
    "day2 = datetime.date(2021,6,5)"
   ]
  },
  {
   "cell_type": "code",
   "execution_count": 131,
   "id": "c397957c-96cd-4755-a126-f82d9f27933c",
   "metadata": {},
   "outputs": [
    {
     "data": {
      "text/plain": [
       "datetime.date(2019, 12, 14)"
      ]
     },
     "execution_count": 131,
     "metadata": {},
     "output_type": "execute_result"
    }
   ],
   "source": [
    "day1"
   ]
  },
  {
   "cell_type": "code",
   "execution_count": 134,
   "id": "fcbfc4a0-921e-4e20-ad63-cb5e4ec92707",
   "metadata": {},
   "outputs": [
    {
     "data": {
      "text/plain": [
       "539"
      ]
     },
     "execution_count": 134,
     "metadata": {},
     "output_type": "execute_result"
    }
   ],
   "source": [
    "(day2-day1).days"
   ]
  },
  {
   "cell_type": "code",
   "execution_count": 135,
   "id": "1d404d62-84d5-4178-9cfb-8b52f079fd5d",
   "metadata": {},
   "outputs": [
    {
     "data": {
      "text/plain": [
       "datetime.timedelta"
      ]
     },
     "execution_count": 135,
     "metadata": {},
     "output_type": "execute_result"
    }
   ],
   "source": [
    "type(day2-day1)"
   ]
  },
  {
   "cell_type": "code",
   "execution_count": 136,
   "id": "be355652-4ab5-40e8-bb29-5784f0a4db61",
   "metadata": {},
   "outputs": [
    {
     "data": {
      "text/plain": [
       "datetime.date"
      ]
     },
     "execution_count": 136,
     "metadata": {},
     "output_type": "execute_result"
    }
   ],
   "source": [
    "type(day2)"
   ]
  },
  {
   "cell_type": "code",
   "execution_count": 138,
   "id": "0febbd4e-953d-4819-8a4d-d4aad8dc0705",
   "metadata": {},
   "outputs": [
    {
     "data": {
      "text/plain": [
       "5"
      ]
     },
     "execution_count": 138,
     "metadata": {},
     "output_type": "execute_result"
    }
   ],
   "source": [
    "day2.weekday()"
   ]
  },
  {
   "cell_type": "code",
   "execution_count": 139,
   "id": "cf6eabe2-d39d-4eab-b049-71a30c571505",
   "metadata": {},
   "outputs": [],
   "source": [
    "import time"
   ]
  },
  {
   "cell_type": "code",
   "execution_count": 174,
   "id": "59fe3e79-e439-4009-87a7-3af00a8aaa52",
   "metadata": {},
   "outputs": [
    {
     "data": {
      "text/plain": [
       "1685337320.392375"
      ]
     },
     "execution_count": 174,
     "metadata": {},
     "output_type": "execute_result"
    }
   ],
   "source": [
    "time.time()"
   ]
  },
  {
   "cell_type": "code",
   "execution_count": 171,
   "id": "9d1ba347-3783-4bad-867d-d11cb8cf53ec",
   "metadata": {},
   "outputs": [
    {
     "data": {
      "text/plain": [
       "time.struct_time(tm_year=2023, tm_mon=5, tm_mday=29, tm_hour=14, tm_min=14, tm_sec=22, tm_wday=0, tm_yday=149, tm_isdst=0)"
      ]
     },
     "execution_count": 171,
     "metadata": {},
     "output_type": "execute_result"
    }
   ],
   "source": [
    "time.localtime()"
   ]
  },
  {
   "cell_type": "code",
   "execution_count": 169,
   "id": "8265a4f8-b924-413d-836f-d6d52f529d45",
   "metadata": {},
   "outputs": [
    {
     "data": {
      "text/plain": [
       "time.struct_time(tm_year=2023, tm_mon=5, tm_mday=29, tm_hour=14, tm_min=14, tm_sec=1, tm_wday=0, tm_yday=149, tm_isdst=0)"
      ]
     },
     "execution_count": 169,
     "metadata": {},
     "output_type": "execute_result"
    }
   ],
   "source": [
    "time.localtime(time.time())"
   ]
  },
  {
   "cell_type": "code",
   "execution_count": 170,
   "id": "581da991-38a5-4b7a-9218-85d5d494cdf0",
   "metadata": {},
   "outputs": [
    {
     "data": {
      "text/plain": [
       "'Mon May 29 14:14:06 2023'"
      ]
     },
     "execution_count": 170,
     "metadata": {},
     "output_type": "execute_result"
    }
   ],
   "source": [
    "time.asctime(time.localtime())"
   ]
  },
  {
   "cell_type": "code",
   "execution_count": 175,
   "id": "3e1d5c2c-a19b-4fd1-9b89-88af708eec27",
   "metadata": {},
   "outputs": [
    {
     "data": {
      "text/plain": [
       "str"
      ]
     },
     "execution_count": 175,
     "metadata": {},
     "output_type": "execute_result"
    }
   ],
   "source": [
    "type(time.asctime(time.localtime()))"
   ]
  },
  {
   "cell_type": "code",
   "execution_count": 163,
   "id": "21c54d8e-bdac-4ed1-b02a-d33d2712c425",
   "metadata": {},
   "outputs": [
    {
     "data": {
      "text/plain": [
       "'Mon May 29 14:10:33 2023'"
      ]
     },
     "execution_count": 163,
     "metadata": {},
     "output_type": "execute_result"
    }
   ],
   "source": [
    "time.ctime()"
   ]
  },
  {
   "cell_type": "code",
   "execution_count": null,
   "id": "4fc732a1-309f-4971-b66d-1d2fd2820abc",
   "metadata": {},
   "outputs": [],
   "source": []
  },
  {
   "cell_type": "code",
   "execution_count": 164,
   "id": "2c87de62-b711-4391-ba88-de984f2cdfa6",
   "metadata": {},
   "outputs": [
    {
     "data": {
      "text/plain": [
       "'Mon'"
      ]
     },
     "execution_count": 164,
     "metadata": {},
     "output_type": "execute_result"
    }
   ],
   "source": [
    "time.strftime('%a', time.localtime(time.time()))"
   ]
  },
  {
   "cell_type": "code",
   "execution_count": 166,
   "id": "a91dfbcc-c00a-4d51-9c69-285cd3ecbae9",
   "metadata": {},
   "outputs": [
    {
     "ename": "TypeError",
     "evalue": "Tuple or struct_time argument required",
     "output_type": "error",
     "traceback": [
      "\u001b[0;31m---------------------------------------------------------------------------\u001b[0m",
      "\u001b[0;31mTypeError\u001b[0m                                 Traceback (most recent call last)",
      "Cell \u001b[0;32mIn[166], line 1\u001b[0m\n\u001b[0;32m----> 1\u001b[0m \u001b[43mtime\u001b[49m\u001b[38;5;241;43m.\u001b[39;49m\u001b[43mstrftime\u001b[49m\u001b[43m(\u001b[49m\u001b[38;5;124;43m'\u001b[39;49m\u001b[38;5;132;43;01m%a\u001b[39;49;00m\u001b[38;5;124;43m'\u001b[39;49m\u001b[43m,\u001b[49m\u001b[43m \u001b[49m\u001b[43mtime\u001b[49m\u001b[38;5;241;43m.\u001b[39;49m\u001b[43mctime\u001b[49m\u001b[43m(\u001b[49m\u001b[43m)\u001b[49m\u001b[43m)\u001b[49m\n",
      "\u001b[0;31mTypeError\u001b[0m: Tuple or struct_time argument required"
     ]
    }
   ],
   "source": [
    "time.strftime('%a', time.ctime())"
   ]
  },
  {
   "cell_type": "code",
   "execution_count": null,
   "id": "d7bbc64e-5769-4dda-ae0e-906921c29d2c",
   "metadata": {},
   "outputs": [],
   "source": []
  },
  {
   "cell_type": "code",
   "execution_count": null,
   "id": "6adb543b-7cd9-4045-b39d-87d40638cd77",
   "metadata": {},
   "outputs": [],
   "source": []
  },
  {
   "cell_type": "code",
   "execution_count": null,
   "id": "043cf4ee-f03a-4805-99ab-3fc0b1671f72",
   "metadata": {},
   "outputs": [],
   "source": []
  },
  {
   "cell_type": "code",
   "execution_count": null,
   "id": "185e0aa4-5749-479b-b105-86623c7b2b22",
   "metadata": {},
   "outputs": [],
   "source": []
  },
  {
   "cell_type": "code",
   "execution_count": null,
   "id": "1c85e075-c568-4f6b-9bc4-721b4d14ef88",
   "metadata": {},
   "outputs": [],
   "source": []
  }
 ],
 "metadata": {
  "kernelspec": {
   "display_name": "Python 3 (ipykernel)",
   "language": "python",
   "name": "python3"
  },
  "language_info": {
   "codemirror_mode": {
    "name": "ipython",
    "version": 3
   },
   "file_extension": ".py",
   "mimetype": "text/x-python",
   "name": "python",
   "nbconvert_exporter": "python",
   "pygments_lexer": "ipython3",
   "version": "3.9.16"
  }
 },
 "nbformat": 4,
 "nbformat_minor": 5
}
