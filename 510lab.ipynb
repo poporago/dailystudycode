{
 "cells": [
  {
   "cell_type": "code",
   "execution_count": 18,
   "id": "6d828ccb-46b1-4d79-b239-f98a91a61808",
   "metadata": {},
   "outputs": [
    {
     "ename": "IndentationError",
     "evalue": "expected an indented block (3710812424.py, line 3)",
     "output_type": "error",
     "traceback": [
      "\u001b[0;36m  Cell \u001b[0;32mIn[18], line 3\u001b[0;36m\u001b[0m\n\u001b[0;31m    finally:\u001b[0m\n\u001b[0m            ^\u001b[0m\n\u001b[0;31mIndentationError\u001b[0m\u001b[0;31m:\u001b[0m expected an indented block\n"
     ]
    }
   ],
   "source": [
    "try: \n",
    "    while False:\n",
    "finally:\n",
    "    print(\"되나?\")\n",
    "    "
   ]
  },
  {
   "cell_type": "code",
   "execution_count": null,
   "id": "8ae0ab16-fa77-420e-84c2-b8ac4c752bea",
   "metadata": {},
   "outputs": [],
   "source": []
  },
  {
   "cell_type": "code",
   "execution_count": 2,
   "id": "c26ef67c-46ee-4471-a285-b6e32f4eec28",
   "metadata": {},
   "outputs": [],
   "source": [
    "import pandas as pd\n",
    "import numpy as np"
   ]
  },
  {
   "cell_type": "code",
   "execution_count": 24,
   "id": "9f7164e0-4484-4ff2-a161-a34c833c91a3",
   "metadata": {},
   "outputs": [],
   "source": [
    "s = pd.Series(np.arange(1.0, 5.0))"
   ]
  },
  {
   "cell_type": "code",
   "execution_count": 25,
   "id": "5b9d47f6-3363-4902-b50d-fa1d6d96ca60",
   "metadata": {},
   "outputs": [
    {
     "data": {
      "text/plain": [
       "0    1.0\n",
       "1    2.0\n",
       "2    3.0\n",
       "3    4.0\n",
       "dtype: float64"
      ]
     },
     "execution_count": 25,
     "metadata": {},
     "output_type": "execute_result"
    }
   ],
   "source": [
    "s"
   ]
  },
  {
   "cell_type": "code",
   "execution_count": 26,
   "id": "8c561df2-08a8-4d9d-974a-e7787f1c04fd",
   "metadata": {},
   "outputs": [],
   "source": [
    "b = pd.Series(np.arange(1,5))"
   ]
  },
  {
   "cell_type": "markdown",
   "id": "7a4e07e4",
   "metadata": {},
   "source": []
  },
  {
   "cell_type": "code",
   "execution_count": 28,
   "id": "a9e5a4cb-b673-4b83-901c-9dedfe8560b3",
   "metadata": {},
   "outputs": [
    {
     "data": {
      "text/plain": [
       "0    1\n",
       "1    2\n",
       "2    3\n",
       "3    4\n",
       "dtype: int64"
      ]
     },
     "execution_count": 28,
     "metadata": {},
     "output_type": "execute_result"
    }
   ],
   "source": [
    "b"
   ]
  },
  {
   "cell_type": "code",
   "execution_count": 30,
   "id": "c23be312-4c0d-4e25-b7e5-76e4a464df36",
   "metadata": {},
   "outputs": [],
   "source": [
    "index = [['a','a','b','b','c','c'],[1,2,3,4,5,6,]]"
   ]
  },
  {
   "cell_type": "code",
   "execution_count": 32,
   "id": "ce98ec40-f213-4b96-b9da-7ce77f06043a",
   "metadata": {},
   "outputs": [
    {
     "data": {
      "text/plain": [
       "list"
      ]
     },
     "execution_count": 32,
     "metadata": {},
     "output_type": "execute_result"
    }
   ],
   "source": [
    "type(index)"
   ]
  },
  {
   "cell_type": "code",
   "execution_count": 36,
   "id": "4013eb3b-2240-4aa5-87e3-91e4d7142fb0",
   "metadata": {},
   "outputs": [],
   "source": [
    "test_Series = pd.Series(data=np.arange(1,7), index=index)"
   ]
  },
  {
   "cell_type": "code",
   "execution_count": 37,
   "id": "64bcd4a3-8e6b-41b3-b3de-ebdf8cbb0221",
   "metadata": {},
   "outputs": [
    {
     "data": {
      "text/plain": [
       "a  1    1\n",
       "   2    2\n",
       "b  3    3\n",
       "   4    4\n",
       "c  5    5\n",
       "   6    6\n",
       "dtype: int64"
      ]
     },
     "execution_count": 37,
     "metadata": {},
     "output_type": "execute_result"
    }
   ],
   "source": [
    "test_Series"
   ]
  },
  {
   "cell_type": "code",
   "execution_count": 38,
   "id": "3a63b205-b2f8-4a46-90bf-ebb6bbae1616",
   "metadata": {},
   "outputs": [
    {
     "data": {
      "text/plain": [
       "MultiIndex([('a', 1),\n",
       "            ('a', 2),\n",
       "            ('b', 3),\n",
       "            ('b', 4),\n",
       "            ('c', 5),\n",
       "            ('c', 6)],\n",
       "           )"
      ]
     },
     "execution_count": 38,
     "metadata": {},
     "output_type": "execute_result"
    }
   ],
   "source": [
    "test_Series.index"
   ]
  },
  {
   "cell_type": "code",
   "execution_count": 39,
   "id": "60d40156-b68c-44b2-adef-2e0fee88f5ba",
   "metadata": {},
   "outputs": [],
   "source": [
    "index = pd.MultiIndex.from_tuples([('one', 'a'), ('one', 'b'),\n",
    "                                   ('two', 'a'), ('two', 'b')])"
   ]
  },
  {
   "cell_type": "code",
   "execution_count": 51,
   "id": "e8f15dcb-d5e8-494a-9d8b-1568f20eae27",
   "metadata": {},
   "outputs": [],
   "source": [
    "s = pd.Series(np.arange(1.0, 5.0) , index=index)"
   ]
  },
  {
   "cell_type": "code",
   "execution_count": 54,
   "id": "bd301a8b-5bde-472e-bcaf-d4d168ce931c",
   "metadata": {},
   "outputs": [
    {
     "data": {
      "text/plain": [
       "one  a    1.0\n",
       "     b    2.0\n",
       "two  a    3.0\n",
       "     b    4.0\n",
       "dtype: float64"
      ]
     },
     "execution_count": 54,
     "metadata": {},
     "output_type": "execute_result"
    }
   ],
   "source": [
    "s"
   ]
  },
  {
   "cell_type": "code",
   "execution_count": 52,
   "id": "c33dedae-a1ec-45e5-a939-8ca6f222f616",
   "metadata": {},
   "outputs": [],
   "source": [
    "s_new = s.unstack(level=-1)"
   ]
  },
  {
   "cell_type": "code",
   "execution_count": 53,
   "id": "275180f5-348e-4927-b6a9-6aaa49b8b84b",
   "metadata": {},
   "outputs": [
    {
     "data": {
      "text/html": [
       "<div>\n",
       "<style scoped>\n",
       "    .dataframe tbody tr th:only-of-type {\n",
       "        vertical-align: middle;\n",
       "    }\n",
       "\n",
       "    .dataframe tbody tr th {\n",
       "        vertical-align: top;\n",
       "    }\n",
       "\n",
       "    .dataframe thead th {\n",
       "        text-align: right;\n",
       "    }\n",
       "</style>\n",
       "<table border=\"1\" class=\"dataframe\">\n",
       "  <thead>\n",
       "    <tr style=\"text-align: right;\">\n",
       "      <th></th>\n",
       "      <th>a</th>\n",
       "      <th>b</th>\n",
       "    </tr>\n",
       "  </thead>\n",
       "  <tbody>\n",
       "    <tr>\n",
       "      <th>one</th>\n",
       "      <td>1.0</td>\n",
       "      <td>2.0</td>\n",
       "    </tr>\n",
       "    <tr>\n",
       "      <th>two</th>\n",
       "      <td>3.0</td>\n",
       "      <td>4.0</td>\n",
       "    </tr>\n",
       "  </tbody>\n",
       "</table>\n",
       "</div>"
      ],
      "text/plain": [
       "       a    b\n",
       "one  1.0  2.0\n",
       "two  3.0  4.0"
      ]
     },
     "execution_count": 53,
     "metadata": {},
     "output_type": "execute_result"
    }
   ],
   "source": [
    "s_new"
   ]
  },
  {
   "cell_type": "code",
   "execution_count": 55,
   "id": "69e50cb1-90b7-4d6d-b8f8-e3e94e7f20b4",
   "metadata": {},
   "outputs": [],
   "source": [
    "arraylike= np.arange(10)"
   ]
  },
  {
   "cell_type": "code",
   "execution_count": 56,
   "id": "8c1126b8-0d41-4786-ad96-11e56b5b0e0d",
   "metadata": {},
   "outputs": [],
   "source": [
    "bins = pd.cut(arraylike , 5)"
   ]
  },
  {
   "cell_type": "code",
   "execution_count": 57,
   "id": "10b0d72f-41c4-46c3-8bdc-e40cb85b3a30",
   "metadata": {},
   "outputs": [
    {
     "data": {
      "text/plain": [
       "[(-0.009, 1.8], (-0.009, 1.8], (1.8, 3.6], (1.8, 3.6], (3.6, 5.4], (3.6, 5.4], (5.4, 7.2], (5.4, 7.2], (7.2, 9.0], (7.2, 9.0]]\n",
       "Categories (5, interval[float64, right]): [(-0.009, 1.8] < (1.8, 3.6] < (3.6, 5.4] < (5.4, 7.2] < (7.2, 9.0]]"
      ]
     },
     "execution_count": 57,
     "metadata": {},
     "output_type": "execute_result"
    }
   ],
   "source": [
    "bins"
   ]
  },
  {
   "cell_type": "code",
   "execution_count": 60,
   "id": "96c07dab-3b0e-45ac-8699-f3a75a1cf410",
   "metadata": {},
   "outputs": [
    {
     "data": {
      "text/plain": [
       "IntervalIndex([(-0.009, 1.8], (1.8, 3.6], (3.6, 5.4], (5.4, 7.2], (7.2, 9.0]], dtype='interval[float64, right]')"
      ]
     },
     "execution_count": 60,
     "metadata": {},
     "output_type": "execute_result"
    }
   ],
   "source": [
    "bins.categories"
   ]
  },
  {
   "cell_type": "code",
   "execution_count": null,
   "id": "e6186544-5f82-4bf9-85dc-96ab13fe11f2",
   "metadata": {},
   "outputs": [],
   "source": []
  },
  {
   "cell_type": "code",
   "execution_count": 58,
   "id": "04166a99-913a-4b41-914a-d2b73a03435e",
   "metadata": {},
   "outputs": [
    {
     "data": {
      "text/plain": [
       "pandas.core.arrays.categorical.Categorical"
      ]
     },
     "execution_count": 58,
     "metadata": {},
     "output_type": "execute_result"
    }
   ],
   "source": [
    "type(bins)"
   ]
  },
  {
   "cell_type": "code",
   "execution_count": null,
   "id": "550c10c8-f0be-459c-9266-449c5eb913b3",
   "metadata": {},
   "outputs": [],
   "source": []
  },
  {
   "cell_type": "code",
   "execution_count": null,
   "id": "420f5eb2-3ca3-4ce5-a412-4febc037905b",
   "metadata": {},
   "outputs": [],
   "source": []
  },
  {
   "cell_type": "code",
   "execution_count": 70,
   "id": "9f1e743c-c2df-4735-80bf-134092525488",
   "metadata": {},
   "outputs": [
    {
     "data": {
      "text/html": [
       "<div>\n",
       "<style scoped>\n",
       "    .dataframe tbody tr th:only-of-type {\n",
       "        vertical-align: middle;\n",
       "    }\n",
       "\n",
       "    .dataframe tbody tr th {\n",
       "        vertical-align: top;\n",
       "    }\n",
       "\n",
       "    .dataframe thead th {\n",
       "        text-align: right;\n",
       "    }\n",
       "</style>\n",
       "<table border=\"1\" class=\"dataframe\">\n",
       "  <thead>\n",
       "    <tr style=\"text-align: right;\">\n",
       "      <th></th>\n",
       "      <th>key1</th>\n",
       "      <th>key2</th>\n",
       "      <th>data1</th>\n",
       "      <th>data2</th>\n",
       "    </tr>\n",
       "  </thead>\n",
       "  <tbody>\n",
       "    <tr>\n",
       "      <th>0</th>\n",
       "      <td>a</td>\n",
       "      <td>1</td>\n",
       "      <td>0.055161</td>\n",
       "      <td>-1.549907</td>\n",
       "    </tr>\n",
       "    <tr>\n",
       "      <th>1</th>\n",
       "      <td>a</td>\n",
       "      <td>2</td>\n",
       "      <td>0.580324</td>\n",
       "      <td>-1.312882</td>\n",
       "    </tr>\n",
       "    <tr>\n",
       "      <th>2</th>\n",
       "      <td>None</td>\n",
       "      <td>1</td>\n",
       "      <td>0.689118</td>\n",
       "      <td>-0.402567</td>\n",
       "    </tr>\n",
       "    <tr>\n",
       "      <th>3</th>\n",
       "      <td>b</td>\n",
       "      <td>2</td>\n",
       "      <td>0.206902</td>\n",
       "      <td>-1.078600</td>\n",
       "    </tr>\n",
       "    <tr>\n",
       "      <th>4</th>\n",
       "      <td>b</td>\n",
       "      <td>1</td>\n",
       "      <td>-1.124268</td>\n",
       "      <td>0.724289</td>\n",
       "    </tr>\n",
       "    <tr>\n",
       "      <th>5</th>\n",
       "      <td>a</td>\n",
       "      <td>&lt;NA&gt;</td>\n",
       "      <td>-0.794529</td>\n",
       "      <td>-1.338208</td>\n",
       "    </tr>\n",
       "    <tr>\n",
       "      <th>6</th>\n",
       "      <td>None</td>\n",
       "      <td>1</td>\n",
       "      <td>-1.484094</td>\n",
       "      <td>-1.154830</td>\n",
       "    </tr>\n",
       "  </tbody>\n",
       "</table>\n",
       "</div>"
      ],
      "text/plain": [
       "   key1  key2     data1     data2\n",
       "0     a     1  0.055161 -1.549907\n",
       "1     a     2  0.580324 -1.312882\n",
       "2  None     1  0.689118 -0.402567\n",
       "3     b     2  0.206902 -1.078600\n",
       "4     b     1 -1.124268  0.724289\n",
       "5     a  <NA> -0.794529 -1.338208\n",
       "6  None     1 -1.484094 -1.154830"
      ]
     },
     "execution_count": 70,
     "metadata": {},
     "output_type": "execute_result"
    }
   ],
   "source": [
    "df_raw = pd.DataFrame({\"key1\" : [\"a\", \"a\", None, \"b\", \"b\", \"a\", None],\n",
    "                   \"key2\" : pd.Series([1, 2, 1, 2, 1, None, 1],\n",
    "                                      dtype=\"Int64\"),\n",
    "                   \"data1\" : np.random.standard_normal(7),\n",
    "                   \"data2\" : np.random.standard_normal(7)})   ##np.random.randn 라고 하면 좋을것을 \n",
    "df_raw"
   ]
  },
  {
   "cell_type": "code",
   "execution_count": 80,
   "id": "887a51e6-8fee-4991-b899-addacd3973cf",
   "metadata": {},
   "outputs": [],
   "source": [
    "df_raw.iloc[2,0]"
   ]
  },
  {
   "cell_type": "code",
   "execution_count": 85,
   "id": "ba0a3056-287b-4191-9442-3a2010cf42cf",
   "metadata": {},
   "outputs": [
    {
     "data": {
      "text/plain": [
       "<NA>"
      ]
     },
     "execution_count": 85,
     "metadata": {},
     "output_type": "execute_result"
    }
   ],
   "source": [
    "df_raw.iloc[5,1]"
   ]
  },
  {
   "cell_type": "code",
   "execution_count": null,
   "id": "f6dd334a-aec2-4a13-80bb-446a4092ea44",
   "metadata": {},
   "outputs": [],
   "source": []
  },
  {
   "cell_type": "code",
   "execution_count": null,
   "id": "e94ef39d-7719-4e27-9c60-b7967d3d0276",
   "metadata": {},
   "outputs": [],
   "source": []
  },
  {
   "cell_type": "code",
   "execution_count": 65,
   "id": "e7c62648-1863-4bee-baf1-2298d3784bc0",
   "metadata": {},
   "outputs": [
    {
     "ename": "SyntaxError",
     "evalue": "invalid syntax (3335472724.py, line 3)",
     "output_type": "error",
     "traceback": [
      "\u001b[0;36m  Cell \u001b[0;32mIn[65], line 3\u001b[0;36m\u001b[0m\n\u001b[0;31m    \"data1\" : np.random.standard_normal(7),\u001b[0m\n\u001b[0m            ^\u001b[0m\n\u001b[0;31mSyntaxError\u001b[0m\u001b[0;31m:\u001b[0m invalid syntax\n"
     ]
    }
   ],
   "source": [
    "df = pd.DataFrame({\"key1\" : [\"a\", \"a\", None, \"b\", \"b\", \"a\", None],\n",
    "                   \"key2\" : pd.Series([1, 2, 1, 2, 1, None, 1],\n",
    "                   \"data1\" : np.random.standard_normal(7),\n",
    "                   \"data2\" : np.random.standard_normal(7)})   "
   ]
  },
  {
   "cell_type": "code",
   "execution_count": 75,
   "id": "d1a08b6a-48e4-41c9-9707-b5076831d893",
   "metadata": {},
   "outputs": [
    {
     "data": {
      "text/html": [
       "<div>\n",
       "<style scoped>\n",
       "    .dataframe tbody tr th:only-of-type {\n",
       "        vertical-align: middle;\n",
       "    }\n",
       "\n",
       "    .dataframe tbody tr th {\n",
       "        vertical-align: top;\n",
       "    }\n",
       "\n",
       "    .dataframe thead th {\n",
       "        text-align: right;\n",
       "    }\n",
       "</style>\n",
       "<table border=\"1\" class=\"dataframe\">\n",
       "  <thead>\n",
       "    <tr style=\"text-align: right;\">\n",
       "      <th></th>\n",
       "      <th>key1</th>\n",
       "      <th>key2</th>\n",
       "      <th>data1</th>\n",
       "      <th>data2</th>\n",
       "    </tr>\n",
       "  </thead>\n",
       "  <tbody>\n",
       "    <tr>\n",
       "      <th>0</th>\n",
       "      <td>a</td>\n",
       "      <td>1.0</td>\n",
       "      <td>-0.365791</td>\n",
       "      <td>1.255853</td>\n",
       "    </tr>\n",
       "    <tr>\n",
       "      <th>1</th>\n",
       "      <td>a</td>\n",
       "      <td>2.0</td>\n",
       "      <td>-0.468940</td>\n",
       "      <td>0.621694</td>\n",
       "    </tr>\n",
       "    <tr>\n",
       "      <th>2</th>\n",
       "      <td>None</td>\n",
       "      <td>1.0</td>\n",
       "      <td>0.102339</td>\n",
       "      <td>1.077696</td>\n",
       "    </tr>\n",
       "    <tr>\n",
       "      <th>3</th>\n",
       "      <td>b</td>\n",
       "      <td>2.0</td>\n",
       "      <td>-0.498019</td>\n",
       "      <td>1.726518</td>\n",
       "    </tr>\n",
       "    <tr>\n",
       "      <th>4</th>\n",
       "      <td>b</td>\n",
       "      <td>1.0</td>\n",
       "      <td>0.105710</td>\n",
       "      <td>-1.016374</td>\n",
       "    </tr>\n",
       "    <tr>\n",
       "      <th>5</th>\n",
       "      <td>a</td>\n",
       "      <td>NaN</td>\n",
       "      <td>1.481989</td>\n",
       "      <td>1.941651</td>\n",
       "    </tr>\n",
       "    <tr>\n",
       "      <th>6</th>\n",
       "      <td>None</td>\n",
       "      <td>1.0</td>\n",
       "      <td>0.461092</td>\n",
       "      <td>0.360971</td>\n",
       "    </tr>\n",
       "  </tbody>\n",
       "</table>\n",
       "</div>"
      ],
      "text/plain": [
       "   key1  key2     data1     data2\n",
       "0     a   1.0 -0.365791  1.255853\n",
       "1     a   2.0 -0.468940  0.621694\n",
       "2  None   1.0  0.102339  1.077696\n",
       "3     b   2.0 -0.498019  1.726518\n",
       "4     b   1.0  0.105710 -1.016374\n",
       "5     a   NaN  1.481989  1.941651\n",
       "6  None   1.0  0.461092  0.360971"
      ]
     },
     "execution_count": 75,
     "metadata": {},
     "output_type": "execute_result"
    }
   ],
   "source": [
    "df_new = pd.DataFrame({\"key1\" : [\"a\", \"a\", None, \"b\", \"b\", \"a\", None],\n",
    "                   \"key2\" : [1, 2, 1, 2, 1, None, 1],\n",
    "                   \"data1\" : np.random.standard_normal(7),\n",
    "                   \"data2\" : np.random.standard_normal(7)})\n",
    "df_new"
   ]
  },
  {
   "cell_type": "code",
   "execution_count": 87,
   "id": "a0ebf637-baa8-46ee-8a4c-b69b4db1d5d1",
   "metadata": {},
   "outputs": [
    {
     "data": {
      "text/plain": [
       "numpy.float64"
      ]
     },
     "execution_count": 87,
     "metadata": {},
     "output_type": "execute_result"
    }
   ],
   "source": [
    "type(df.loc[4,\"key2\"])"
   ]
  },
  {
   "cell_type": "code",
   "execution_count": null,
   "id": "32f6c043-979c-4d16-9eff-80493e444861",
   "metadata": {},
   "outputs": [],
   "source": []
  },
  {
   "cell_type": "code",
   "execution_count": 3,
   "id": "17d63580-18e7-455c-b0c8-6da6995bf56c",
   "metadata": {},
   "outputs": [],
   "source": [
    "s = pd.Series(['cat', 'dog', 'cat', 'dog', 'bird', 'cat', 'bird', 'cat'])"
   ]
  },
  {
   "cell_type": "code",
   "execution_count": 8,
   "id": "042c0792-204d-4923-8168-79aef3fa8623",
   "metadata": {},
   "outputs": [
    {
     "data": {
      "text/plain": [
       "cat     4\n",
       "dog     2\n",
       "bird    2\n",
       "dtype: int64"
      ]
     },
     "execution_count": 8,
     "metadata": {},
     "output_type": "execute_result"
    }
   ],
   "source": [
    "s.value_counts() ## fixed one"
   ]
  },
  {
   "cell_type": "code",
   "execution_count": 6,
   "id": "9685a482-28b9-4313-b9c8-e4ce9374f286",
   "metadata": {},
   "outputs": [
    {
     "data": {
      "text/plain": [
       "4    bird\n",
       "6    bird\n",
       "0     cat\n",
       "2     cat\n",
       "5     cat\n",
       "7     cat\n",
       "1     dog\n",
       "3     dog\n",
       "dtype: object"
      ]
     },
     "execution_count": 6,
     "metadata": {},
     "output_type": "execute_result"
    }
   ],
   "source": [
    "s.sort_values() ## 진짜정렬만"
   ]
  },
  {
   "cell_type": "code",
   "execution_count": null,
   "id": "d3b14ed8-04ba-486d-8997-4953131434fb",
   "metadata": {},
   "outputs": [],
   "source": [
    "class AgeError(Exception):\n",
    "    def __init__(self,msg='init_error_msg'):\n",
    "        self.msg = msg\n",
    "        \n",
    "    def __str__(self):\n",
    "        return self.msg\n",
    "    "
   ]
  },
  {
   "cell_type": "code",
   "execution_count": 16,
   "id": "ebfae4b8-a027-435d-9a3c-3dbd650c73e3",
   "metadata": {},
   "outputs": [],
   "source": [
    "class factory:\n",
    "    def set_info(self, material, line):\n",
    "        self.material = material\n",
    "        self.line = line\n",
    "        \n",
    "    def print_into(self):\n",
    "        print(\"material :\", self.material)\n",
    "        print(\"line :\", self.line)\n"
   ]
  },
  {
   "cell_type": "code",
   "execution_count": 17,
   "id": "2d3324a1-1259-4f68-bd62-5c1bb2baf314",
   "metadata": {},
   "outputs": [],
   "source": [
    "a = factory()"
   ]
  },
  {
   "cell_type": "code",
   "execution_count": 22,
   "id": "979bd0e9-c75c-42e0-8de8-8bf2a56cca8f",
   "metadata": {},
   "outputs": [],
   "source": [
    "a.set_info('metal', 'facility')"
   ]
  },
  {
   "cell_type": "code",
   "execution_count": 19,
   "id": "d2a4b840-40e3-4836-b53a-1966875630ad",
   "metadata": {},
   "outputs": [
    {
     "name": "stdout",
     "output_type": "stream",
     "text": [
      "material : metal\n",
      "line : facility\n"
     ]
    }
   ],
   "source": [
    "a.print_into()"
   ]
  },
  {
   "cell_type": "code",
   "execution_count": 24,
   "id": "23158e42",
   "metadata": {},
   "outputs": [],
   "source": [
    "class factory2:\n",
    "    def set_info(self, material, line):\n",
    "        self.material = material\n",
    "        self.line = line\n",
    "        \n",
    "    \n",
    "    def print_into(self):\n",
    "        print(\"material :\", self.material)\n",
    "        print(\"line :\", self.line)"
   ]
  },
  {
   "cell_type": "code",
   "execution_count": 25,
   "id": "4ae91046",
   "metadata": {},
   "outputs": [
    {
     "data": {
      "text/plain": [
       "0"
      ]
     },
     "execution_count": 25,
     "metadata": {},
     "output_type": "execute_result"
    }
   ],
   "source": [
    "b=  factory2()\n",
    "b.set_info('metal','facility')"
   ]
  },
  {
   "cell_type": "code",
   "execution_count": 26,
   "id": "f442d983",
   "metadata": {},
   "outputs": [
    {
     "name": "stdout",
     "output_type": "stream",
     "text": [
      "material : metal\n",
      "line : facility\n"
     ]
    }
   ],
   "source": [
    "b.print_into()"
   ]
  },
  {
   "cell_type": "code",
   "execution_count": 22,
   "id": "b8afd37b",
   "metadata": {},
   "outputs": [],
   "source": [
    "a = [5,2,3]\n",
    "b = [5,2,3]"
   ]
  },
  {
   "cell_type": "code",
   "execution_count": 23,
   "id": "13b45ed9-c625-421c-9dde-2703d229b351",
   "metadata": {},
   "outputs": [
    {
     "data": {
      "text/plain": [
       "4360751296"
      ]
     },
     "execution_count": 23,
     "metadata": {},
     "output_type": "execute_result"
    }
   ],
   "source": [
    "id(a)"
   ]
  },
  {
   "cell_type": "code",
   "execution_count": 24,
   "id": "db787d29-5917-4bd2-8a99-0941cd197708",
   "metadata": {},
   "outputs": [
    {
     "data": {
      "text/plain": [
       "4360756608"
      ]
     },
     "execution_count": 24,
     "metadata": {},
     "output_type": "execute_result"
    }
   ],
   "source": [
    "id(b)"
   ]
  },
  {
   "cell_type": "code",
   "execution_count": 25,
   "id": "24d095ab-dbcf-4752-8183-39d1ce25b250",
   "metadata": {},
   "outputs": [],
   "source": [
    "b=a"
   ]
  },
  {
   "cell_type": "code",
   "execution_count": 26,
   "id": "cbcfa765-15f6-41e2-94c6-cac5ed707a5a",
   "metadata": {},
   "outputs": [
    {
     "data": {
      "text/plain": [
       "4360751296"
      ]
     },
     "execution_count": 26,
     "metadata": {},
     "output_type": "execute_result"
    }
   ],
   "source": [
    "id(a)"
   ]
  },
  {
   "cell_type": "code",
   "execution_count": 27,
   "id": "29bcbab4-1ec6-4b88-be98-40348437dea0",
   "metadata": {},
   "outputs": [
    {
     "data": {
      "text/plain": [
       "4360751296"
      ]
     },
     "execution_count": 27,
     "metadata": {},
     "output_type": "execute_result"
    }
   ],
   "source": [
    "id(b)"
   ]
  },
  {
   "cell_type": "code",
   "execution_count": 13,
   "id": "8f7d846e-0098-4710-8aa1-e629c2795373",
   "metadata": {},
   "outputs": [],
   "source": [
    "a[0]=3"
   ]
  },
  {
   "cell_type": "code",
   "execution_count": 14,
   "id": "08414488-c71a-49d2-844e-ee6b1a3bfa02",
   "metadata": {},
   "outputs": [
    {
     "data": {
      "text/plain": [
       "[3, 2, 3]"
      ]
     },
     "execution_count": 14,
     "metadata": {},
     "output_type": "execute_result"
    }
   ],
   "source": [
    "a"
   ]
  },
  {
   "cell_type": "code",
   "execution_count": 15,
   "id": "42cc3856-443c-43fb-8546-98e993ced7ce",
   "metadata": {},
   "outputs": [
    {
     "data": {
      "text/plain": [
       "[5, 2, 3]"
      ]
     },
     "execution_count": 15,
     "metadata": {},
     "output_type": "execute_result"
    }
   ],
   "source": [
    "b"
   ]
  },
  {
   "cell_type": "code",
   "execution_count": 37,
   "id": "e377c1d7-3df4-4145-a392-6967f4b3d8c9",
   "metadata": {},
   "outputs": [
    {
     "data": {
      "text/plain": [
       "[5, 2, 3]"
      ]
     },
     "execution_count": 37,
     "metadata": {},
     "output_type": "execute_result"
    }
   ],
   "source": [
    "a"
   ]
  },
  {
   "cell_type": "code",
   "execution_count": 38,
   "id": "73322ccb-a0dd-4c86-a324-79da08b5557e",
   "metadata": {},
   "outputs": [],
   "source": [
    "b=a"
   ]
  },
  {
   "cell_type": "code",
   "execution_count": 39,
   "id": "afb3b459-d419-4f9e-a276-c8c1f6f11bf0",
   "metadata": {},
   "outputs": [
    {
     "data": {
      "text/plain": [
       "4360751296"
      ]
     },
     "execution_count": 39,
     "metadata": {},
     "output_type": "execute_result"
    }
   ],
   "source": [
    "id(a)"
   ]
  },
  {
   "cell_type": "code",
   "execution_count": 40,
   "id": "e607e0c5-671a-4c40-95fb-012a0147f5e0",
   "metadata": {},
   "outputs": [
    {
     "data": {
      "text/plain": [
       "4360751296"
      ]
     },
     "execution_count": 40,
     "metadata": {},
     "output_type": "execute_result"
    }
   ],
   "source": [
    "id(b)"
   ]
  },
  {
   "cell_type": "code",
   "execution_count": 32,
   "id": "3f2ab63a-eee7-44c0-aed5-ea0e7cbaf0b9",
   "metadata": {},
   "outputs": [],
   "source": [
    "b=a[:]"
   ]
  },
  {
   "cell_type": "code",
   "execution_count": 33,
   "id": "da1f62e5-d94f-4708-8760-dcfa96f33a40",
   "metadata": {},
   "outputs": [
    {
     "data": {
      "text/plain": [
       "4360751296"
      ]
     },
     "execution_count": 33,
     "metadata": {},
     "output_type": "execute_result"
    }
   ],
   "source": [
    "id(a)"
   ]
  },
  {
   "cell_type": "code",
   "execution_count": 34,
   "id": "ea4e36bb-f223-4b12-a8dc-3779ba85bee1",
   "metadata": {},
   "outputs": [
    {
     "data": {
      "text/plain": [
       "4360510592"
      ]
     },
     "execution_count": 34,
     "metadata": {},
     "output_type": "execute_result"
    }
   ],
   "source": [
    "id(b)"
   ]
  },
  {
   "cell_type": "code",
   "execution_count": 50,
   "id": "88c04fce-60b9-46af-965f-8cfd975f49e7",
   "metadata": {},
   "outputs": [
    {
     "data": {
      "image/png": "[encoded data removed]",
      "text/plain": [
       "<Figure size 640x480 with 4 Axes>"
      ]
     },
     "metadata": {},
     "output_type": "display_data"
    }
   ],
   "source": [
    "import matplotlib.pyplot as plt\n",
    "import numpy as np\n",
    "\n",
    "x = np.arange(1, 5)     # [1, 2, 3, 4]\n",
    "\n",
    "fig, ax = plt.subplots(2, 2, sharex=True, sharey=True )\n",
    "ax[0][0].plot(x, np.sqrt(x), 'gray', linewidth=4)\n",
    "ax[0][1].plot(x, x, 'g^-', markersize=10)\n",
    "ax[1][0].plot(x, -x+5, 'ro--')\n",
    "ax[1][1].plot(x, np.sqrt(-x+5), 'b.-.' , linewidth=4)\n",
    "\n",
    "plt.show()"
   ]
  },
  {
   "cell_type": "code",
   "execution_count": null,
   "id": "313c6903-588d-4249-94c9-ac4cce6f512f",
   "metadata": {},
   "outputs": [],
   "source": []
  },
  {
   "cell_type": "code",
   "execution_count": null,
   "id": "76e3b892-4609-42d3-9fa7-5f430ad862e0",
   "metadata": {},
   "outputs": [],
   "source": []
  },
  {
   "cell_type": "code",
   "execution_count": null,
   "id": "5c05e976-47bc-46b3-82ff-6c489ac56c66",
   "metadata": {},
   "outputs": [],
   "source": []
  },
  {
   "cell_type": "code",
   "execution_count": null,
   "id": "b3bad357-f6ab-4ccb-9a4f-97e9e1e0fbb8",
   "metadata": {},
   "outputs": [],
   "source": []
  },
  {
   "cell_type": "code",
   "execution_count": null,
   "id": "3da94b2c-c01b-47f3-8a25-584cd731038b",
   "metadata": {},
   "outputs": [],
   "source": []
  },
  {
   "cell_type": "code",
   "execution_count": null,
   "id": "da72db19-ebf2-4a93-bd63-a7c604dc9e9a",
   "metadata": {},
   "outputs": [],
   "source": []
  },
  {
   "cell_type": "code",
   "execution_count": null,
   "id": "8035c238-2452-4b6c-b45c-c27258ffc07f",
   "metadata": {},
   "outputs": [],
   "source": []
  },
  {
   "cell_type": "code",
   "execution_count": null,
   "id": "ef400f25-6e2f-4b69-a2de-a506c523f698",
   "metadata": {},
   "outputs": [],
   "source": [
    "import matplotlib.pyplot as plt"
   ]
  },
  {
   "cell_type": "code",
   "execution_count": 2,
   "id": "ac529beb-8703-495c-8c6e-ee4f6f0bfcc6",
   "metadata": {},
   "outputs": [
    {
     "ename": "SyntaxError",
     "evalue": "invalid syntax (1184375611.py, line 1)",
     "output_type": "error",
     "traceback": [
      "\u001b[0;36m  Cell \u001b[0;32mIn[2], line 1\u001b[0;36m\u001b[0m\n\u001b[0;31m    from matplotlib.pyplot as plt\u001b[0m\n\u001b[0m                           ^\u001b[0m\n\u001b[0;31mSyntaxError\u001b[0m\u001b[0;31m:\u001b[0m invalid syntax\n"
     ]
    }
   ],
   "source": []
  },
  {
   "cell_type": "code",
   "execution_count": null,
   "id": "3a5949e8-2e4d-4e5b-9984-ecbf76c3abc9",
   "metadata": {},
   "outputs": [],
   "source": [
    "plt.plot(t, t, 'r--', t, t**2, 'bs', t, t**3, 'g^')\n",
    "        ~= (X,Y , Style   X2,Y2 , Style2,  X3, Y3, Style3)"
   ]
  },
  {
   "cell_type": "code",
   "execution_count": null,
   "id": "eae6a9f1-40a3-4ac5-970b-60342a549848",
   "metadata": {},
   "outputs": [],
   "source": []
  }
 ],
 "metadata": {
  "kernelspec": {
   "display_name": "Python 3 (ipykernel)",
   "language": "python",
   "name": "python3"
  },
  "language_info": {
   "codemirror_mode": {
    "name": "ipython",
    "version": 3
   },
   "file_extension": ".py",
   "mimetype": "text/x-python",
   "name": "python",
   "nbconvert_exporter": "python",
   "pygments_lexer": "ipython3",
   "version": "3.9.16"
  }
 },
 "nbformat": 4,
 "nbformat_minor": 5
}
