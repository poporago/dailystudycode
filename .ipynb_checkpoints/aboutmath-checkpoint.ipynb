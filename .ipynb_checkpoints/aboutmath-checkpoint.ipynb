{
 "cells": [
  {
   "cell_type": "code",
   "execution_count": 1,
   "id": "211e9414-4b8b-42ae-be84-160aaad9011e",
   "metadata": {},
   "outputs": [],
   "source": [
    "import numpy as np # thanks to numpy!"
   ]
  },
  {
   "cell_type": "code",
   "execution_count": 4,
   "id": "e5abaa4c-2503-4d5e-ae40-abadfd5dd0f5",
   "metadata": {},
   "outputs": [],
   "source": [
    "x = np.array([2,10,100,1000,10000,100000,100000000000000000000000])\n",
    "y = (1+1/x)**x"
   ]
  },
  {
   "cell_type": "code",
   "execution_count": 5,
   "id": "fac31473-0d3a-48e5-80bd-84b81425d34e",
   "metadata": {},
   "outputs": [
    {
     "name": "stdout",
     "output_type": "stream",
     "text": [
      "[2.25 2.5937424601000023 2.7048138294215285 2.7169239322355936\n",
      " 2.7181459268249255 2.7182682371922975 1.0]\n"
     ]
    }
   ],
   "source": [
    "print(y)"
   ]
  },
  {
   "cell_type": "code",
   "execution_count": 6,
   "id": "3ab6e81c-9b38-4bd5-b6a2-5b736d4dfab4",
   "metadata": {},
   "outputs": [],
   "source": [
    "import math"
   ]
  },
  {
   "cell_type": "code",
   "execution_count": 7,
   "id": "0ba24216-e543-4128-ad3e-e16c51aa4d46",
   "metadata": {},
   "outputs": [
    {
     "data": {
      "text/plain": [
       "2.718281828459045"
      ]
     },
     "execution_count": 7,
     "metadata": {},
     "output_type": "execute_result"
    }
   ],
   "source": [
    "math.e"
   ]
  },
  {
   "cell_type": "code",
   "execution_count": 9,
   "id": "894575a0-6913-43e3-aec1-3ccdd154514e",
   "metadata": {},
   "outputs": [
    {
     "data": {
      "text/plain": [
       "2.718281828459045"
      ]
     },
     "execution_count": 9,
     "metadata": {},
     "output_type": "execute_result"
    }
   ],
   "source": [
    "np.e"
   ]
  },
  {
   "cell_type": "code",
   "execution_count": 2,
   "id": "b0c7043c-2079-44de-abae-5d2e6be00094",
   "metadata": {},
   "outputs": [
    {
     "name": "stdout",
     "output_type": "stream",
     "text": [
      "test1234\n"
     ]
    }
   ],
   "source": [
    "print(\"test1234\")"
   ]
  }
 ],
 "metadata": {
  "kernelspec": {
   "display_name": "Python 3 (ipykernel)",
   "language": "python",
   "name": "python3"
  },
  "language_info": {
   "codemirror_mode": {
    "name": "ipython",
    "version": 3
   },
   "file_extension": ".py",
   "mimetype": "text/x-python",
   "name": "python",
   "nbconvert_exporter": "python",
   "pygments_lexer": "ipython3",
   "version": "3.9.16"
  }
 },
 "nbformat": 4,
 "nbformat_minor": 5
}
